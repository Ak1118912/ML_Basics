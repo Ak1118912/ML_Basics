{
  "nbformat": 4,
  "nbformat_minor": 0,
  "metadata": {
    "colab": {
      "provenance": []
    },
    "kernelspec": {
      "name": "python3",
      "display_name": "Python 3"
    },
    "language_info": {
      "name": "python"
    }
  },
  "cells": [
    {
      "cell_type": "code",
      "source": [
        "import numpy as np\n",
        "one_d = np.arange(1, 11)\n",
        "two_d = one_d.reshape(5, 2)\n",
        "\n",
        "print(\"1D Tensor:\", one_d)\n",
        "print(\"2D Tensor:\\n\", two_d)\n"
      ],
      "metadata": {
        "colab": {
          "base_uri": "https://localhost:8080/"
        },
        "id": "TFhTFZhkkYHn",
        "outputId": "492ea3f7-5c4b-429b-c702-2e41067d22cb"
      },
      "execution_count": 4,
      "outputs": [
        {
          "output_type": "stream",
          "name": "stdout",
          "text": [
            "1D Tensor: [ 1  2  3  4  5  6  7  8  9 10]\n",
            "2D Tensor:\n",
            " [[ 1  2]\n",
            " [ 3  4]\n",
            " [ 5  6]\n",
            " [ 7  8]\n",
            " [ 9 10]]\n"
          ]
        }
      ]
    },
    {
      "cell_type": "code",
      "source": [
        "three_d = np.random.randint(0, 10, (2, 3, 4))\n",
        "print(\"3D Tensor:\\n\", three_d)"
      ],
      "metadata": {
        "colab": {
          "base_uri": "https://localhost:8080/"
        },
        "id": "nvMVp5T3kWNn",
        "outputId": "1d72dba3-5251-4866-f41d-4462c0f415c5"
      },
      "execution_count": 5,
      "outputs": [
        {
          "output_type": "stream",
          "name": "stdout",
          "text": [
            "3D Tensor:\n",
            " [[[9 6 7 5]\n",
            "  [9 6 3 2]\n",
            "  [7 0 1 1]]\n",
            "\n",
            " [[0 4 5 1]\n",
            "  [7 2 5 4]\n",
            "  [7 8 8 3]]]\n"
          ]
        }
      ]
    },
    {
      "cell_type": "code",
      "execution_count": 6,
      "metadata": {
        "colab": {
          "base_uri": "https://localhost:8080/"
        },
        "id": "PbNsIkVtj2wY",
        "outputId": "6f883ce4-9dae-467e-eb62-57f441fff076"
      },
      "outputs": [
        {
          "output_type": "stream",
          "name": "stdout",
          "text": [
            "Original Tensor:\n",
            " [[1. 1. 1.]\n",
            " [1. 1. 1.]\n",
            " [1. 1. 1.]]\n",
            "After Adding 5:\n",
            " [[6. 6. 6.]\n",
            " [6. 6. 6.]\n",
            " [6. 6. 6.]]\n",
            "After Multiplying by 3:\n",
            " [[18. 18. 18.]\n",
            " [18. 18. 18.]\n",
            " [18. 18. 18.]]\n"
          ]
        }
      ],
      "source": [
        "import tensorflow as tf\n",
        "\n",
        "ones_tensor = tf.ones((3, 3))\n",
        "added = ones_tensor + 5\n",
        "multiplied = added * 3\n",
        "\n",
        "print(\"Original Tensor:\\n\", ones_tensor.numpy())\n",
        "print(\"After Adding 5:\\n\", added.numpy())\n",
        "print(\"After Multiplying by 3:\\n\", multiplied.numpy())\n"
      ]
    },
    {
      "cell_type": "code",
      "source": [
        "def tf_dot_product(a, b):\n",
        "    return tf.matmul(a, b)\n",
        "\n",
        "tensor_a = tf.constant([[1, 2], [3, 4]])\n",
        "tensor_b = tf.constant([[5, 6], [7, 8]])\n",
        "result = tf_dot_product(tensor_a, tensor_b)\n",
        "print(\"Dot Product Result:\\n\", result.numpy())\n"
      ],
      "metadata": {
        "colab": {
          "base_uri": "https://localhost:8080/"
        },
        "id": "XX3XyVbckAcv",
        "outputId": "9669d1db-c91a-4ac5-8261-6a83bf804125"
      },
      "execution_count": 7,
      "outputs": [
        {
          "output_type": "stream",
          "name": "stdout",
          "text": [
            "Dot Product Result:\n",
            " [[19 22]\n",
            " [43 50]]\n"
          ]
        }
      ]
    },
    {
      "cell_type": "code",
      "source": [
        "matrix1 = np.array([[1, 2], [3, 4], [5, 6]])\n",
        "matrix2 = np.array([[7, 8, 9], [10, 11, 12]])\n",
        "product = np.dot(matrix1, matrix2)\n",
        "print(\"Matrix Product:\\n\", product)\n"
      ],
      "metadata": {
        "colab": {
          "base_uri": "https://localhost:8080/"
        },
        "id": "YPUeFjvnkq0G",
        "outputId": "a5014a20-d758-434e-dbff-174d82d19f40"
      },
      "execution_count": 8,
      "outputs": [
        {
          "output_type": "stream",
          "name": "stdout",
          "text": [
            "Matrix Product:\n",
            " [[ 27  30  33]\n",
            " [ 61  68  75]\n",
            " [ 95 106 117]]\n"
          ]
        }
      ]
    },
    {
      "cell_type": "code",
      "source": [
        "def slice_tensor(tensor):\n",
        "    return tensor[:2, :, -1]\n",
        "sample_3d = np.random.randint(0, 10, (3, 4, 5))\n",
        "\n",
        "print(\"Sliced Tensor:\\n\", slice_tensor(sample_3d))\n"
      ],
      "metadata": {
        "colab": {
          "base_uri": "https://localhost:8080/"
        },
        "id": "M0aDQsRPk1B-",
        "outputId": "4e39640f-58db-479c-d416-f76adb1aa46a"
      },
      "execution_count": 9,
      "outputs": [
        {
          "output_type": "stream",
          "name": "stdout",
          "text": [
            "Sliced Tensor:\n",
            " [[1 5 9 9]\n",
            " [6 8 5 9]]\n"
          ]
        }
      ]
    },
    {
      "cell_type": "code",
      "source": [
        "zeros = tf.zeros((4, 4))\n",
        "ones = tf.ones((4, 4))\n",
        "concatenated = tf.concat([zeros, ones], axis=0)\n",
        "\n",
        "print(\"Concatenated Tensor Shape:\", concatenated.shape)\n"
      ],
      "metadata": {
        "colab": {
          "base_uri": "https://localhost:8080/"
        },
        "id": "OI9MNNE0k9f6",
        "outputId": "5d13a0e4-d11f-420d-e120-5a32db9b2a60"
      },
      "execution_count": 10,
      "outputs": [
        {
          "output_type": "stream",
          "name": "stdout",
          "text": [
            "Concatenated Tensor Shape: (8, 4)\n"
          ]
        }
      ]
    },
    {
      "cell_type": "code",
      "source": [
        "import tensorflow as tf\n",
        "\n",
        "zero_tensor = tf.Variable(tf.zeros((5, 5)))\n",
        "zero_tensor[1:4, 1:4].assign(tf.ones((3, 3)))\n",
        "\n",
        "print(\"Modified Tensor:\\n\", zero_tensor.numpy())\n"
      ],
      "metadata": {
        "colab": {
          "base_uri": "https://localhost:8080/"
        },
        "id": "tnRUGbKSlCP2",
        "outputId": "3c923d9e-0bac-4865-d5ae-62b5a7b3a6c7"
      },
      "execution_count": 12,
      "outputs": [
        {
          "output_type": "stream",
          "name": "stdout",
          "text": [
            "Modified Tensor:\n",
            " [[0. 0. 0. 0. 0.]\n",
            " [0. 1. 1. 1. 0.]\n",
            " [0. 1. 1. 1. 0.]\n",
            " [0. 1. 1. 1. 0.]\n",
            " [0. 0. 0. 0. 0.]]\n"
          ]
        }
      ]
    },
    {
      "cell_type": "code",
      "source": [
        "zero_tensor = tf.zeros((5, 5))\n",
        "indices = tf.constant([[1,1], [1,2], [1,3],\n",
        "                      [2,1], [2,2], [2,3],\n",
        "                      [3,1], [3,2], [3,3]])\n",
        "\n",
        "updated = tf.tensor_scatter_nd_update(\n",
        "    zero_tensor,\n",
        "    indices,\n",
        "    tf.ones(9)\n",
        ")\n",
        "print(updated.numpy())\n"
      ],
      "metadata": {
        "colab": {
          "base_uri": "https://localhost:8080/"
        },
        "id": "_LEf6mZ1ltkn",
        "outputId": "84d678ef-9e51-4434-8363-99b4d57950bd"
      },
      "execution_count": 13,
      "outputs": [
        {
          "output_type": "stream",
          "name": "stdout",
          "text": [
            "[[0. 0. 0. 0. 0.]\n",
            " [0. 1. 1. 1. 0.]\n",
            " [0. 1. 1. 1. 0.]\n",
            " [0. 1. 1. 1. 0.]\n",
            " [0. 0. 0. 0. 0.]]\n"
          ]
        }
      ]
    },
    {
      "cell_type": "code",
      "source": [
        "tensor_4x4 = np.random.randint(0, 10, (4, 4))\n",
        "subtracted = tensor_4x4 - 3\n",
        "reshaped = subtracted.reshape(2, 8)\n",
        "print(\"Subtracted Tensor:\\n\", subtracted)\n",
        "print(\"Reshaped Tensor:\\n\", reshaped)\n"
      ],
      "metadata": {
        "colab": {
          "base_uri": "https://localhost:8080/"
        },
        "id": "f5uUaoMnl0W_",
        "outputId": "b12f55fc-bee8-48b4-c38e-e1ea4544748a"
      },
      "execution_count": 14,
      "outputs": [
        {
          "output_type": "stream",
          "name": "stdout",
          "text": [
            "Subtracted Tensor:\n",
            " [[ 1  5  3  2]\n",
            " [ 6  6  3 -1]\n",
            " [ 1  5 -3  1]\n",
            " [-1  6 -1 -2]]\n",
            "Reshaped Tensor:\n",
            " [[ 1  5  3  2  6  6  3 -1]\n",
            " [ 1  5 -3  1 -1  6 -1 -2]]\n"
          ]
        }
      ]
    },
    {
      "cell_type": "code",
      "source": [
        "random_tensor = tf.random.uniform((2, 2), 0, 10, dtype=tf.int32)\n",
        "subtracted = random_tensor - 3\n",
        "print(\"Original Tensor:\\n\", random_tensor.numpy())\n",
        "print(\"After Subtraction:\\n\", subtracted.numpy())\n"
      ],
      "metadata": {
        "colab": {
          "base_uri": "https://localhost:8080/"
        },
        "id": "JOoPvaIsl2t2",
        "outputId": "71947ad0-8cbd-46f2-d4cc-e65008995e15"
      },
      "execution_count": 15,
      "outputs": [
        {
          "output_type": "stream",
          "name": "stdout",
          "text": [
            "Original Tensor:\n",
            " [[2 6]\n",
            " [8 7]]\n",
            "After Subtraction:\n",
            " [[-1  3]\n",
            " [ 5  4]]\n"
          ]
        }
      ]
    }
  ]
}