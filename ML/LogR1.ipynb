{
 "cells": [
  {
   "cell_type": "code",
   "execution_count": null,
   "id": "daca27a4",
   "metadata": {},
   "outputs": [],
   "source": [
    "import pandas as pd\n",
    "import numpy as np\n",
    "from sklearn.model_selection import train_test_split\n",
    "from sklearn.linear_model import LogisticRegression\n",
    "from sklearn.metrics import accuracy_score, confusion_matrix, classification_report\n",
    "import matplotlib.pyplot as plt\n",
    "import seaborn as sns\n"
   ]
  },
  {
   "cell_type": "code",
   "execution_count": 24,
   "id": "276e712d",
   "metadata": {},
   "outputs": [
    {
     "name": "stdout",
     "output_type": "stream",
     "text": [
      "   male  age  education  currentSmoker  cigsPerDay  BPMeds  prevalentStroke  \\\n",
      "0     1   39        4.0              0         0.0     0.0                0   \n",
      "1     0   46        2.0              0         0.0     0.0                0   \n",
      "2     1   48        1.0              1        20.0     0.0                0   \n",
      "3     0   61        3.0              1        30.0     0.0                0   \n",
      "4     0   46        3.0              1        23.0     0.0                0   \n",
      "\n",
      "   prevalentHyp  diabetes  totChol  sysBP  diaBP    BMI  heartRate  glucose  \\\n",
      "0             0         0    195.0  106.0   70.0  26.97       80.0     77.0   \n",
      "1             0         0    250.0  121.0   81.0  28.73       95.0     76.0   \n",
      "2             0         0    245.0  127.5   80.0  25.34       75.0     70.0   \n",
      "3             1         0    225.0  150.0   95.0  28.58       65.0    103.0   \n",
      "4             0         0    285.0  130.0   84.0  23.10       85.0     85.0   \n",
      "\n",
      "   TenYearCHD  \n",
      "0           0  \n",
      "1           0  \n",
      "2           0  \n",
      "3           1  \n",
      "4           0  \n"
     ]
    }
   ],
   "source": [
    "data = pd.read_csv('framingham.csv')\n",
    "\n",
    "print(data.head())\n"
   ]
  },
  {
   "cell_type": "code",
   "execution_count": 25,
   "id": "fb09beb5",
   "metadata": {},
   "outputs": [
    {
     "name": "stdout",
     "output_type": "stream",
     "text": [
      "<class 'pandas.core.frame.DataFrame'>\n",
      "RangeIndex: 4238 entries, 0 to 4237\n",
      "Data columns (total 16 columns):\n",
      " #   Column           Non-Null Count  Dtype  \n",
      "---  ------           --------------  -----  \n",
      " 0   male             4238 non-null   int64  \n",
      " 1   age              4238 non-null   int64  \n",
      " 2   education        4133 non-null   float64\n",
      " 3   currentSmoker    4238 non-null   int64  \n",
      " 4   cigsPerDay       4209 non-null   float64\n",
      " 5   BPMeds           4185 non-null   float64\n",
      " 6   prevalentStroke  4238 non-null   int64  \n",
      " 7   prevalentHyp     4238 non-null   int64  \n",
      " 8   diabetes         4238 non-null   int64  \n",
      " 9   totChol          4188 non-null   float64\n",
      " 10  sysBP            4238 non-null   float64\n",
      " 11  diaBP            4238 non-null   float64\n",
      " 12  BMI              4219 non-null   float64\n",
      " 13  heartRate        4237 non-null   float64\n",
      " 14  glucose          3850 non-null   float64\n",
      " 15  TenYearCHD       4238 non-null   int64  \n",
      "dtypes: float64(9), int64(7)\n",
      "memory usage: 529.9 KB\n",
      "None\n"
     ]
    }
   ],
   "source": [
    "print(data.info())"
   ]
  },
  {
   "cell_type": "code",
   "execution_count": 26,
   "id": "3e1c7409",
   "metadata": {},
   "outputs": [
    {
     "name": "stdout",
     "output_type": "stream",
     "text": [
      "              male          age    education  currentSmoker   cigsPerDay  \\\n",
      "count  4238.000000  4238.000000  4133.000000    4238.000000  4209.000000   \n",
      "mean      0.429212    49.584946     1.978950       0.494101     9.003089   \n",
      "std       0.495022     8.572160     1.019791       0.500024    11.920094   \n",
      "min       0.000000    32.000000     1.000000       0.000000     0.000000   \n",
      "25%       0.000000    42.000000     1.000000       0.000000     0.000000   \n",
      "50%       0.000000    49.000000     2.000000       0.000000     0.000000   \n",
      "75%       1.000000    56.000000     3.000000       1.000000    20.000000   \n",
      "max       1.000000    70.000000     4.000000       1.000000    70.000000   \n",
      "\n",
      "            BPMeds  prevalentStroke  prevalentHyp     diabetes      totChol  \\\n",
      "count  4185.000000      4238.000000   4238.000000  4238.000000  4188.000000   \n",
      "mean      0.029630         0.005899      0.310524     0.025720   236.721585   \n",
      "std       0.169584         0.076587      0.462763     0.158316    44.590334   \n",
      "min       0.000000         0.000000      0.000000     0.000000   107.000000   \n",
      "25%       0.000000         0.000000      0.000000     0.000000   206.000000   \n",
      "50%       0.000000         0.000000      0.000000     0.000000   234.000000   \n",
      "75%       0.000000         0.000000      1.000000     0.000000   263.000000   \n",
      "max       1.000000         1.000000      1.000000     1.000000   696.000000   \n",
      "\n",
      "             sysBP        diaBP          BMI    heartRate      glucose  \\\n",
      "count  4238.000000  4238.000000  4219.000000  4237.000000  3850.000000   \n",
      "mean    132.352407    82.893464    25.802008    75.878924    81.966753   \n",
      "std      22.038097    11.910850     4.080111    12.026596    23.959998   \n",
      "min      83.500000    48.000000    15.540000    44.000000    40.000000   \n",
      "25%     117.000000    75.000000    23.070000    68.000000    71.000000   \n",
      "50%     128.000000    82.000000    25.400000    75.000000    78.000000   \n",
      "75%     144.000000    89.875000    28.040000    83.000000    87.000000   \n",
      "max     295.000000   142.500000    56.800000   143.000000   394.000000   \n",
      "\n",
      "        TenYearCHD  \n",
      "count  4238.000000  \n",
      "mean      0.151958  \n",
      "std       0.359023  \n",
      "min       0.000000  \n",
      "25%       0.000000  \n",
      "50%       0.000000  \n",
      "75%       0.000000  \n",
      "max       1.000000  \n"
     ]
    }
   ],
   "source": [
    "print(data.describe())"
   ]
  },
  {
   "cell_type": "code",
   "execution_count": 27,
   "id": "6460fbe5",
   "metadata": {},
   "outputs": [
    {
     "name": "stdout",
     "output_type": "stream",
     "text": [
      "Missing values per column:\n",
      "male                 0\n",
      "age                  0\n",
      "education          105\n",
      "currentSmoker        0\n",
      "cigsPerDay          29\n",
      "BPMeds              53\n",
      "prevalentStroke      0\n",
      "prevalentHyp         0\n",
      "diabetes             0\n",
      "totChol             50\n",
      "sysBP                0\n",
      "diaBP                0\n",
      "BMI                 19\n",
      "heartRate            1\n",
      "glucose            388\n",
      "TenYearCHD           0\n",
      "dtype: int64\n",
      "Dataset shape after dropping missing values: (3656, 16)\n"
     ]
    }
   ],
   "source": [
    "print(\"Missing values per column:\")\n",
    "print(data.isnull().sum())\n",
    "\n",
    "data = data.dropna()\n",
    "\n",
    "print(f\"Dataset shape after dropping missing values: {data.shape}\")\n"
   ]
  },
  {
   "cell_type": "code",
   "execution_count": 28,
   "id": "0d1196b6",
   "metadata": {},
   "outputs": [
    {
     "name": "stdout",
     "output_type": "stream",
     "text": [
      "Feature matrix shape: (3656, 15)\n",
      "Target vector shape: (3656,)\n"
     ]
    }
   ],
   "source": [
    "X = data.drop(columns=[\"TenYearCHD\"]) \n",
    "y = data[\"TenYearCHD\"]               \n",
    "\n",
    "print(f\"Feature matrix shape: {X.shape}\")\n",
    "print(f\"Target vector shape: {y.shape}\")"
   ]
  },
  {
   "cell_type": "code",
   "execution_count": 17,
   "id": "55391c42",
   "metadata": {},
   "outputs": [
    {
     "name": "stdout",
     "output_type": "stream",
     "text": [
      "Features shape: (10000, 2)\n",
      "Target shape: (10000,)\n"
     ]
    }
   ],
   "source": [
    "data = data.dropna()\n",
    "X = data[['HoursStudied', 'PreviousScores']]  \n",
    "y = data['PerformanceIndex']        \n",
    "\n",
    "print(\"Features shape:\", X.shape)\n",
    "print(\"Target shape:\", y.shape)"
   ]
  },
  {
   "cell_type": "code",
   "execution_count": 36,
   "id": "92c04c08",
   "metadata": {},
   "outputs": [
    {
     "name": "stdout",
     "output_type": "stream",
     "text": [
      "Training set shape: (2559, 15), (2559,)\n",
      "Testing set shape: (1097, 15), (1097,)\n"
     ]
    }
   ],
   "source": [
    "X_train, X_test, y_train, y_test = train_test_split(X, y, test_size=0.3, random_state=42)\n",
    "\n",
    "print(f\"Training set shape: {X_train.shape}, {y_train.shape}\")\n",
    "print(f\"Testing set shape: {X_test.shape}, {y_test.shape}\")\n"
   ]
  },
  {
   "cell_type": "code",
   "execution_count": 37,
   "id": "fe6c004d",
   "metadata": {},
   "outputs": [
    {
     "name": "stdout",
     "output_type": "stream",
     "text": [
      "Model coefficients:\n",
      "[[ 6.15860115e-01  6.55029858e-02 -8.54944837e-03  1.14712030e-01\n",
      "   1.99206069e-02  1.16785614e-01  1.86199033e+00  2.28922226e-01\n",
      "   5.75411727e-01  3.15088566e-03  1.71037378e-02 -1.90641609e-03\n",
      "   7.89290554e-04 -8.82754158e-03  4.83283109e-03]]\n"
     ]
    },
    {
     "name": "stderr",
     "output_type": "stream",
     "text": [
      "c:\\Users\\akhil\\AppData\\Local\\Programs\\Python\\Python312\\Lib\\site-packages\\sklearn\\linear_model\\_logistic.py:465: ConvergenceWarning: lbfgs failed to converge (status=1):\n",
      "STOP: TOTAL NO. OF ITERATIONS REACHED LIMIT.\n",
      "\n",
      "Increase the number of iterations (max_iter) or scale the data as shown in:\n",
      "    https://scikit-learn.org/stable/modules/preprocessing.html\n",
      "Please also refer to the documentation for alternative solver options:\n",
      "    https://scikit-learn.org/stable/modules/linear_model.html#logistic-regression\n",
      "  n_iter_i = _check_optimize_result(\n"
     ]
    }
   ],
   "source": [
    "logistic_model = LogisticRegression(max_iter=1000)\n",
    "logistic_model.fit(X_train, y_train)\n",
    "\n",
    "print(\"Model coefficients:\")\n",
    "print(logistic_model.coef_)\n"
   ]
  },
  {
   "cell_type": "code",
   "execution_count": null,
   "id": "ec32f07a",
   "metadata": {},
   "outputs": [
    {
     "name": "stdout",
     "output_type": "stream",
     "text": [
      "      Actual  Predicted\n",
      "572        0          0\n",
      "1309       0          0\n",
      "1153       0          0\n",
      "3679       0          0\n",
      "1842       1          0\n",
      "4226       1          0\n",
      "2196       0          0\n",
      "2144       0          0\n",
      "2969       0          0\n",
      "3580       0          0\n",
      "989        0          0\n",
      "4015       0          0\n",
      "809        0          0\n",
      "924        0          0\n",
      "3340       0          0\n",
      "2437       1          0\n",
      "4117       0          0\n",
      "3859       0          0\n",
      "536        0          0\n",
      "3071       0          0\n"
     ]
    }
   ],
   "source": [
    "predictions = model.predict(X_test)\n",
    "results = pd.DataFrame({'Actual': y_test, 'Predicted': predictions})\n",
    "\n",
    "print(results.head(20))"
   ]
  },
  {
   "cell_type": "code",
   "execution_count": 39,
   "id": "4f3a8088",
   "metadata": {},
   "outputs": [
    {
     "name": "stdout",
     "output_type": "stream",
     "text": [
      "R² Score: -0.16\n",
      "RMSE: 0.39\n"
     ]
    }
   ],
   "source": [
    "from sklearn.metrics import r2_score, mean_squared_error\n",
    "\n",
    "r2 = r2_score(y_test, predictions)\n",
    "mse = mean_squared_error(y_test, predictions)\n",
    "rmse = np.sqrt(mse)\n",
    "\n",
    "print(f\"R² Score: {r2:.2f}\")\n",
    "print(f\"RMSE: {rmse:.2f}\")\n"
   ]
  },
  {
   "cell_type": "code",
   "execution_count": 41,
   "id": "b693ae47",
   "metadata": {},
   "outputs": [
    {
     "name": "stdout",
     "output_type": "stream",
     "text": [
      "Predictions:\n",
      "[0 0 0 ... 0 0 0]\n"
     ]
    }
   ],
   "source": [
    "y_pred = logistic_model.predict(X_test)\n",
    "\n",
    "print(\"Predictions:\")\n",
    "print(y_pred)\n"
   ]
  },
  {
   "cell_type": "code",
   "execution_count": 44,
   "id": "aaea06f5",
   "metadata": {},
   "outputs": [
    {
     "name": "stdout",
     "output_type": "stream",
     "text": [
      "Accuracy Score: 0.85\n",
      "Confusion Matrix:\n",
      "[[910  13]\n",
      " [157  17]]\n",
      "\n",
      "Classification Report:\n",
      "              precision    recall  f1-score   support\n",
      "\n",
      "           0       0.85      0.99      0.91       923\n",
      "           1       0.57      0.10      0.17       174\n",
      "\n",
      "    accuracy                           0.85      1097\n",
      "   macro avg       0.71      0.54      0.54      1097\n",
      "weighted avg       0.81      0.85      0.80      1097\n",
      "\n"
     ]
    },
    {
     "data": {
      "image/png": "[encoded data removed]",
      "text/plain": [
       "<Figure size 800x600 with 2 Axes>"
      ]
     },
     "metadata": {},
     "output_type": "display_data"
    }
   ],
   "source": [
    "from sklearn.metrics import accuracy_score, confusion_matrix, classification_report \n",
    "accuracy = accuracy_score(y_test, y_pred)\n",
    "print(f\"Accuracy Score: {accuracy:.2f}\")\n",
    "\n",
    "conf_matrix = confusion_matrix(y_test, y_pred)\n",
    "class_report = classification_report(y_test, y_pred)\n",
    "\n",
    "print(\"Confusion Matrix:\")\n",
    "print(conf_matrix)\n",
    "\n",
    "print(\"\\nClassification Report:\")\n",
    "print(class_report)\n",
    "\n",
    "plt.figure(figsize=(8, 6))\n",
    "sns.heatmap(conf_matrix, annot=True, fmt=\"d\", cmap=\"Blues\", xticklabels=[\"No CHD\", \"CHD\"], yticklabels=[\"No CHD\", \"CHD\"])\n",
    "plt.xlabel(\"Predicted\")\n",
    "plt.ylabel(\"Actual\")\n",
    "plt.title(\"Confusion Matrix\")\n",
    "plt.show()\n"
   ]
  }
 ],
 "metadata": {
  "kernelspec": {
   "display_name": "Python 3",
   "language": "python",
   "name": "python3"
  },
  "language_info": {
   "codemirror_mode": {
    "name": "ipython",
    "version": 3
   },
   "file_extension": ".py",
   "mimetype": "text/x-python",
   "name": "python",
   "nbconvert_exporter": "python",
   "pygments_lexer": "ipython3",
   "version": "3.12.1"
  }
 },
 "nbformat": 4,
 "nbformat_minor": 5
}
